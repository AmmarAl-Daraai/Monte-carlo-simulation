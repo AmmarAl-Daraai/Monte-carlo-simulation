{
 "cells": [
  {
   "cell_type": "code",
   "execution_count": 1,
   "metadata": {},
   "outputs": [],
   "source": [
    "#import libraries needed \n",
    "import numpy as np\n",
    "import pandas as pd\n",
    "import matplotlib.pyplot as plt\n",
    "import random\n",
    "from scipy.stats import lognorm, norm, beta\n",
    "import plotly.express as px\n",
    "import plotly.graph_objects as go"
   ]
  },
  {
   "cell_type": "code",
   "execution_count": 2,
   "metadata": {},
   "outputs": [],
   "source": [
    "# input parameters \n",
    "\n",
    "#Area=  #Distribution Type=LOG_NORMAL Mean: 810 acres Std. Dev: 0.21\n",
    "#Thickness= #Distribution Type=LOG_NORMAL Mean: 80 ft Std. Dev: 0.15\n",
    "#Porosity=  #Distribution Type=NORMAL Mean: 0.22 Std. Dev: 0.0271\n",
    "#So=    #Distribution Type=BETA Alpha : 0.151 Beta : 0.071 lower bound: 0.35 upper bound: 0.82\n",
    "#oil_FVF=#  Distribution Type=constant 1.22 rb/stb\n",
    "#Recovery_Factor=   #Distribution Type=NORMAL Mean: 23% St. Dev.: 6.25%\n"
   ]
  },
  {
   "cell_type": "code",
   "execution_count": 3,
   "metadata": {},
   "outputs": [
    {
     "name": "stdout",
     "output_type": "stream",
     "text": [
      "Area=[808.79284768 838.08336891 874.10674438 796.66320394 778.40355239]\n",
      "Thickness=[94.93236347 82.66473307 72.13240471 94.57862222 74.68283726]\n",
      "Porosity=[0.24534436 0.2181126  0.25902563 0.25995773 0.24591426]\n",
      "So=[0.81999954 0.81752549 0.66563868 0.81982937 0.82      ]\n",
      "Oil_FVF=[3.2 3.2 3.2 3.2 3.2]\n",
      "Recovery_Factor=[0.20297258 0.21847443 0.27628507 0.31038478 0.16485075]\n"
     ]
    }
   ],
   "source": [
    "# Area \n",
    "Area = np.random.lognormal(np.log(810),0.21,1000)\n",
    "print(f\"Area={Area[:5]}\")\n",
    "\n",
    "#Thickness\n",
    "Thickness= np.random.lognormal(np.log(80),0.15,1000)\n",
    "print(f\"Thickness={Thickness[:5]}\")\n",
    "\n",
    "#Porosity\n",
    "Porosity=np.random.normal(0.22,0.0271,1000)\n",
    "print(f\"Porosity={Porosity[:5]}\")\n",
    "\n",
    "#So\n",
    "def beta_distribution_with_bounds(size, alpha, beta, lower_bound, upper_bound):\n",
    "    # Generate random numbers from standard beta distribution\n",
    "    standard_beta = np.random.beta(alpha, beta, size)\n",
    "\n",
    "    # Transform to the desired range [lower_bound, upper_bound]\n",
    "    result= lower_bound + (upper_bound - lower_bound) * standard_beta\n",
    "    return result\n",
    "\n",
    "So=beta_distribution_with_bounds(1000,0.151,0.071,0.35,0.82)\n",
    "print(f\"So={So[:5]}\")\n",
    "\n",
    "#oil_FVF\n",
    "Oil_FVF = np.full(1000, 3.2)\n",
    "print(f\"Oil_FVF={Oil_FVF[:5]}\")\n",
    "\n",
    "#Recovery_Factor\n",
    "Recovery_Factor=np.random.normal(0.23,0.0625,1000)\n",
    "print(f\"Recovery_Factor={Recovery_Factor[:5]}\")"
   ]
  },
  {
   "cell_type": "code",
   "execution_count": 4,
   "metadata": {},
   "outputs": [
    {
     "name": "stdout",
     "output_type": "stream",
     "text": [
      "Resources=[37449073.15329966 29949484.049751   26355785.8324286  38930836.86189652\n",
      " 28419928.74843166]\n",
      "Reserve=[ 7601135.14093392  6543196.48783531  7281710.24401807 12083539.1005068\n",
      "  4685046.66983614]\n"
     ]
    }
   ],
   "source": [
    "#Resources and Reserve \n",
    "Resources=(7758*Area*Thickness*Porosity*So)/Oil_FVF\n",
    "print(f\"Resources={Resources[:5]}\")\n",
    "\n",
    "Reserve=Resources*Recovery_Factor\n",
    "print(f\"Reserve={Reserve[:5]}\")\n"
   ]
  },
  {
   "cell_type": "code",
   "execution_count": 5,
   "metadata": {},
   "outputs": [
    {
     "data": {
      "text/html": [
       "<div>\n",
       "<style scoped>\n",
       "    .dataframe tbody tr th:only-of-type {\n",
       "        vertical-align: middle;\n",
       "    }\n",
       "\n",
       "    .dataframe tbody tr th {\n",
       "        vertical-align: top;\n",
       "    }\n",
       "\n",
       "    .dataframe thead th {\n",
       "        text-align: right;\n",
       "    }\n",
       "</style>\n",
       "<table border=\"1\" class=\"dataframe\">\n",
       "  <thead>\n",
       "    <tr style=\"text-align: right;\">\n",
       "      <th></th>\n",
       "      <th>Area</th>\n",
       "      <th>Thickness</th>\n",
       "      <th>Porosity</th>\n",
       "      <th>So</th>\n",
       "      <th>Oil_FVF</th>\n",
       "      <th>Recovery_Factor</th>\n",
       "      <th>Resources</th>\n",
       "      <th>Reserve</th>\n",
       "    </tr>\n",
       "  </thead>\n",
       "  <tbody>\n",
       "    <tr>\n",
       "      <th>0</th>\n",
       "      <td>808.792848</td>\n",
       "      <td>94.932363</td>\n",
       "      <td>0.245344</td>\n",
       "      <td>0.820000</td>\n",
       "      <td>3.2</td>\n",
       "      <td>0.202973</td>\n",
       "      <td>3.744907e+07</td>\n",
       "      <td>7.601135e+06</td>\n",
       "    </tr>\n",
       "    <tr>\n",
       "      <th>1</th>\n",
       "      <td>838.083369</td>\n",
       "      <td>82.664733</td>\n",
       "      <td>0.218113</td>\n",
       "      <td>0.817525</td>\n",
       "      <td>3.2</td>\n",
       "      <td>0.218474</td>\n",
       "      <td>2.994948e+07</td>\n",
       "      <td>6.543196e+06</td>\n",
       "    </tr>\n",
       "    <tr>\n",
       "      <th>2</th>\n",
       "      <td>874.106744</td>\n",
       "      <td>72.132405</td>\n",
       "      <td>0.259026</td>\n",
       "      <td>0.665639</td>\n",
       "      <td>3.2</td>\n",
       "      <td>0.276285</td>\n",
       "      <td>2.635579e+07</td>\n",
       "      <td>7.281710e+06</td>\n",
       "    </tr>\n",
       "    <tr>\n",
       "      <th>3</th>\n",
       "      <td>796.663204</td>\n",
       "      <td>94.578622</td>\n",
       "      <td>0.259958</td>\n",
       "      <td>0.819829</td>\n",
       "      <td>3.2</td>\n",
       "      <td>0.310385</td>\n",
       "      <td>3.893084e+07</td>\n",
       "      <td>1.208354e+07</td>\n",
       "    </tr>\n",
       "    <tr>\n",
       "      <th>4</th>\n",
       "      <td>778.403552</td>\n",
       "      <td>74.682837</td>\n",
       "      <td>0.245914</td>\n",
       "      <td>0.820000</td>\n",
       "      <td>3.2</td>\n",
       "      <td>0.164851</td>\n",
       "      <td>2.841993e+07</td>\n",
       "      <td>4.685047e+06</td>\n",
       "    </tr>\n",
       "    <tr>\n",
       "      <th>...</th>\n",
       "      <td>...</td>\n",
       "      <td>...</td>\n",
       "      <td>...</td>\n",
       "      <td>...</td>\n",
       "      <td>...</td>\n",
       "      <td>...</td>\n",
       "      <td>...</td>\n",
       "      <td>...</td>\n",
       "    </tr>\n",
       "    <tr>\n",
       "      <th>995</th>\n",
       "      <td>831.573269</td>\n",
       "      <td>91.028148</td>\n",
       "      <td>0.252646</td>\n",
       "      <td>0.820000</td>\n",
       "      <td>3.2</td>\n",
       "      <td>0.334014</td>\n",
       "      <td>3.801921e+07</td>\n",
       "      <td>1.269895e+07</td>\n",
       "    </tr>\n",
       "    <tr>\n",
       "      <th>996</th>\n",
       "      <td>896.334211</td>\n",
       "      <td>81.377922</td>\n",
       "      <td>0.254069</td>\n",
       "      <td>0.352364</td>\n",
       "      <td>3.2</td>\n",
       "      <td>0.350394</td>\n",
       "      <td>1.583143e+07</td>\n",
       "      <td>5.547241e+06</td>\n",
       "    </tr>\n",
       "    <tr>\n",
       "      <th>997</th>\n",
       "      <td>704.712757</td>\n",
       "      <td>85.421850</td>\n",
       "      <td>0.240037</td>\n",
       "      <td>0.818984</td>\n",
       "      <td>3.2</td>\n",
       "      <td>0.324688</td>\n",
       "      <td>2.869023e+07</td>\n",
       "      <td>9.315383e+06</td>\n",
       "    </tr>\n",
       "    <tr>\n",
       "      <th>998</th>\n",
       "      <td>698.126755</td>\n",
       "      <td>64.254079</td>\n",
       "      <td>0.190591</td>\n",
       "      <td>0.820000</td>\n",
       "      <td>3.2</td>\n",
       "      <td>0.191520</td>\n",
       "      <td>1.699621e+07</td>\n",
       "      <td>3.255112e+06</td>\n",
       "    </tr>\n",
       "    <tr>\n",
       "      <th>999</th>\n",
       "      <td>823.242595</td>\n",
       "      <td>100.028454</td>\n",
       "      <td>0.249113</td>\n",
       "      <td>0.397346</td>\n",
       "      <td>3.2</td>\n",
       "      <td>0.168675</td>\n",
       "      <td>1.976130e+07</td>\n",
       "      <td>3.333236e+06</td>\n",
       "    </tr>\n",
       "  </tbody>\n",
       "</table>\n",
       "<p>1000 rows × 8 columns</p>\n",
       "</div>"
      ],
      "text/plain": [
       "           Area   Thickness  Porosity        So  Oil_FVF  Recovery_Factor  \\\n",
       "0    808.792848   94.932363  0.245344  0.820000      3.2         0.202973   \n",
       "1    838.083369   82.664733  0.218113  0.817525      3.2         0.218474   \n",
       "2    874.106744   72.132405  0.259026  0.665639      3.2         0.276285   \n",
       "3    796.663204   94.578622  0.259958  0.819829      3.2         0.310385   \n",
       "4    778.403552   74.682837  0.245914  0.820000      3.2         0.164851   \n",
       "..          ...         ...       ...       ...      ...              ...   \n",
       "995  831.573269   91.028148  0.252646  0.820000      3.2         0.334014   \n",
       "996  896.334211   81.377922  0.254069  0.352364      3.2         0.350394   \n",
       "997  704.712757   85.421850  0.240037  0.818984      3.2         0.324688   \n",
       "998  698.126755   64.254079  0.190591  0.820000      3.2         0.191520   \n",
       "999  823.242595  100.028454  0.249113  0.397346      3.2         0.168675   \n",
       "\n",
       "        Resources       Reserve  \n",
       "0    3.744907e+07  7.601135e+06  \n",
       "1    2.994948e+07  6.543196e+06  \n",
       "2    2.635579e+07  7.281710e+06  \n",
       "3    3.893084e+07  1.208354e+07  \n",
       "4    2.841993e+07  4.685047e+06  \n",
       "..            ...           ...  \n",
       "995  3.801921e+07  1.269895e+07  \n",
       "996  1.583143e+07  5.547241e+06  \n",
       "997  2.869023e+07  9.315383e+06  \n",
       "998  1.699621e+07  3.255112e+06  \n",
       "999  1.976130e+07  3.333236e+06  \n",
       "\n",
       "[1000 rows x 8 columns]"
      ]
     },
     "execution_count": 5,
     "metadata": {},
     "output_type": "execute_result"
    }
   ],
   "source": [
    "data = {\n",
    "    'Area': Area,\n",
    "    'Thickness': Thickness,\n",
    "    'Porosity': Porosity,\n",
    "    'So': So,\n",
    "    'Oil_FVF': Oil_FVF,\n",
    "    'Recovery_Factor': Recovery_Factor,\n",
    "    'Resources': Resources,\n",
    "    'Reserve': Reserve\n",
    "}\n",
    "\n",
    "Data_frame = pd.DataFrame(data)\n",
    "Data_frame"
   ]
  },
  {
   "cell_type": "code",
   "execution_count": 6,
   "metadata": {},
   "outputs": [
    {
     "name": "stdout",
     "output_type": "stream",
     "text": [
      "Minimum values for the entire DataFrame:\n",
      "Area               3.958653e+02\n",
      "Thickness          4.986746e+01\n",
      "Porosity           1.379748e-01\n",
      "So                 3.500000e-01\n",
      "Oil_FVF            3.200000e+00\n",
      "Recovery_Factor   -1.358830e-02\n",
      "Resources          6.456757e+06\n",
      "Reserve           -4.246939e+05\n",
      "dtype: float64\n"
     ]
    },
    {
     "data": {
      "text/plain": [
       "array([ 3.95865284e+02,  4.98674555e+01,  1.37974783e-01,  3.50000000e-01,\n",
       "        3.20000000e+00, -1.35882955e-02,  6.45675710e+06, -4.24693885e+05])"
      ]
     },
     "execution_count": 6,
     "metadata": {},
     "output_type": "execute_result"
    }
   ],
   "source": [
    "# Find the minimum values for the entire DataFrame\n",
    "min_values_df = Data_frame.min()\n",
    "\n",
    "# Find the minimum values for specific columns\n",
    "min_values_area = Data_frame['Area'].min()\n",
    "min_values_thickness = Data_frame['Thickness'].min()\n",
    "\n",
    "# Print the results\n",
    "print(\"Minimum values for the entire DataFrame:\")\n",
    "print(min_values_df)\n",
    "#convert results to numpy array \n",
    "min_df_array=np.array(min_values_df)\n",
    "min_df_array\n"
   ]
  },
  {
   "cell_type": "code",
   "execution_count": 7,
   "metadata": {},
   "outputs": [
    {
     "name": "stdout",
     "output_type": "stream",
     "text": [
      "Maximum values for the entire DataFrame:\n",
      "Area               1.634385e+03\n",
      "Thickness          1.465864e+02\n",
      "Porosity           3.053755e-01\n",
      "So                 8.200000e-01\n",
      "Oil_FVF            3.200000e+00\n",
      "Recovery_Factor    4.068243e-01\n",
      "Resources          7.094492e+07\n",
      "Reserve            2.076104e+07\n",
      "dtype: float64\n"
     ]
    },
    {
     "data": {
      "text/plain": [
       "array([1.63438535e+03, 1.46586377e+02, 3.05375487e-01, 8.20000000e-01,\n",
       "       3.20000000e+00, 4.06824346e-01, 7.09449183e+07, 2.07610439e+07])"
      ]
     },
     "execution_count": 7,
     "metadata": {},
     "output_type": "execute_result"
    }
   ],
   "source": [
    "# Find the Maximum values for the entire DataFrame\n",
    "max_values_df = Data_frame.max()\n",
    "\n",
    "# Find the minimum values for specific columns\n",
    "max_values_area = Data_frame['Area'].max()\n",
    "max_values_thickness = Data_frame['Thickness'].max()\n",
    "\n",
    "# Print the results\n",
    "print(\"Maximum values for the entire DataFrame:\")\n",
    "print(max_values_df)\n",
    "#convert results to numpy array \n",
    "max_df_array=np.array(max_values_df)\n",
    "max_df_array\n"
   ]
  },
  {
   "cell_type": "code",
   "execution_count": 8,
   "metadata": {},
   "outputs": [
    {
     "name": "stdout",
     "output_type": "stream",
     "text": [
      "Frequency Distribution:\n",
      "[ 1  0  0  0  0  0  1 10  8 21 13 21 32 24 34 19 33 29 29 24 31 35 25 33\n",
      " 42 29 30 29 20 31 27 24 20 30 26 17 26 22 17 16 10 15 17 11  9 14 12  9\n",
      "  6  9  4  2  7  3  4  7  4  4  1  4  2  5  0  1  1  1  1  0  1  1  0  0\n",
      "  1  1  0  0  0  1  0  1  0  0  0  0  1  0  0  0  0  0  0  0  0  0  0  0\n",
      "  0  0  0  1]\n",
      "\n",
      "Bin Edges:\n",
      "[-4.24693885e+05 -2.12836507e+05 -9.79128270e+02  2.10878250e+05\n",
      "  4.22735628e+05  6.34593007e+05  8.46450385e+05  1.05830776e+06\n",
      "  1.27016514e+06  1.48202252e+06  1.69387990e+06  1.90573728e+06\n",
      "  2.11759465e+06  2.32945203e+06  2.54130941e+06  2.75316679e+06\n",
      "  2.96502417e+06  3.17688155e+06  3.38873892e+06  3.60059630e+06\n",
      "  3.81245368e+06  4.02431106e+06  4.23616844e+06  4.44802582e+06\n",
      "  4.65988319e+06  4.87174057e+06  5.08359795e+06  5.29545533e+06\n",
      "  5.50731271e+06  5.71917009e+06  5.93102746e+06  6.14288484e+06\n",
      "  6.35474222e+06  6.56659960e+06  6.77845698e+06  6.99031435e+06\n",
      "  7.20217173e+06  7.41402911e+06  7.62588649e+06  7.83774387e+06\n",
      "  8.04960125e+06  8.26145862e+06  8.47331600e+06  8.68517338e+06\n",
      "  8.89703076e+06  9.10888814e+06  9.32074552e+06  9.53260289e+06\n",
      "  9.74446027e+06  9.95631765e+06  1.01681750e+07  1.03800324e+07\n",
      "  1.05918898e+07  1.08037472e+07  1.10156045e+07  1.12274619e+07\n",
      "  1.14393193e+07  1.16511767e+07  1.18630341e+07  1.20748914e+07\n",
      "  1.22867488e+07  1.24986062e+07  1.27104636e+07  1.29223209e+07\n",
      "  1.31341783e+07  1.33460357e+07  1.35578931e+07  1.37697505e+07\n",
      "  1.39816078e+07  1.41934652e+07  1.44053226e+07  1.46171800e+07\n",
      "  1.48290374e+07  1.50408947e+07  1.52527521e+07  1.54646095e+07\n",
      "  1.56764669e+07  1.58883242e+07  1.61001816e+07  1.63120390e+07\n",
      "  1.65238964e+07  1.67357538e+07  1.69476111e+07  1.71594685e+07\n",
      "  1.73713259e+07  1.75831833e+07  1.77950406e+07  1.80068980e+07\n",
      "  1.82187554e+07  1.84306128e+07  1.86424702e+07  1.88543275e+07\n",
      "  1.90661849e+07  1.92780423e+07  1.94898997e+07  1.97017571e+07\n",
      "  1.99136144e+07  2.01254718e+07  2.03373292e+07  2.05491866e+07\n",
      "  2.07610439e+07]\n"
     ]
    }
   ],
   "source": [
    "\n",
    "# Specify parameters\n",
    "max_Reserve = Data_frame['Reserve'].max()\n",
    "min_Reserve = Data_frame['Reserve'].min()\n",
    "number_bins = 100\n",
    "Increment = (max_Reserve - min_Reserve) / number_bins\n",
    "\n",
    "# Create frequency distribution using numpy.histogram\n",
    "hist, bin_edges = np.histogram(Data_frame['Reserve'], bins=np.arange(min_Reserve, max_Reserve + Increment, Increment))\n",
    "\n",
    "# Print the results\n",
    "print(\"Frequency Distribution:\")\n",
    "print(hist)\n",
    "print(\"\\nBin Edges:\")\n",
    "print(bin_edges)"
   ]
  },
  {
   "cell_type": "code",
   "execution_count": 9,
   "metadata": {},
   "outputs": [
    {
     "data": {
      "text/plain": [
       "array([0.999, 0.999, 0.999, 0.999, 0.999, 0.999, 0.998, 0.988, 0.98 ,\n",
       "       0.959, 0.946, 0.925, 0.893, 0.869, 0.835, 0.816, 0.783, 0.754,\n",
       "       0.725, 0.701, 0.67 , 0.635, 0.61 , 0.577, 0.535, 0.506, 0.476,\n",
       "       0.447, 0.427, 0.396, 0.369, 0.345, 0.325, 0.295, 0.269, 0.252,\n",
       "       0.226, 0.204, 0.187, 0.171, 0.161, 0.146, 0.129, 0.118, 0.109,\n",
       "       0.095, 0.083, 0.074, 0.068, 0.059, 0.055, 0.053, 0.046, 0.043,\n",
       "       0.039, 0.032, 0.028, 0.024, 0.023, 0.019, 0.017, 0.012, 0.012,\n",
       "       0.011, 0.01 , 0.009, 0.008, 0.008, 0.007, 0.006, 0.006, 0.006,\n",
       "       0.005, 0.004, 0.004, 0.004, 0.004, 0.003, 0.003, 0.002, 0.002,\n",
       "       0.002, 0.002, 0.002, 0.001, 0.001, 0.001, 0.001, 0.001, 0.001,\n",
       "       0.001, 0.001, 0.001, 0.001, 0.001, 0.001, 0.001, 0.001, 0.001,\n",
       "       0.   ])"
      ]
     },
     "execution_count": 9,
     "metadata": {},
     "output_type": "execute_result"
    }
   ],
   "source": [
    "# Calculate cumulative frequency\n",
    "cumulative_freq = np.cumsum(hist)\n",
    "CDF=cumulative_freq/1000\n",
    "_1CDF=1-CDF\n",
    "_1CDF"
   ]
  },
  {
   "cell_type": "code",
   "execution_count": 10,
   "metadata": {},
   "outputs": [
    {
     "name": "stderr",
     "output_type": "stream",
     "text": [
      "No artists with labels found to put in legend.  Note that artists whose label start with an underscore are ignored when legend() is called with no argument.\n"
     ]
    },
    {
     "data": {
      "image/png": "[encoded data removed]",
      "text/plain": [
       "<Figure size 640x480 with 1 Axes>"
      ]
     },
     "metadata": {},
     "output_type": "display_data"
    }
   ],
   "source": [
    "plt.plot(bin_edges[:-1], _1CDF, label='_1CDF')\n",
    "plt.xlabel('STOIIP')\n",
    "plt.ylabel('Cumulative Frequency')\n",
    "plt.title('1- Cumulative Distribution Function ( 1- CDF ) vs STOIIP')\n",
    "plt.legend()\n",
    "plt.grid(True)\n",
    "plt.show()"
   ]
  },
  {
   "cell_type": "code",
   "execution_count": 11,
   "metadata": {},
   "outputs": [
    {
     "name": "stderr",
     "output_type": "stream",
     "text": [
      "No artists with labels found to put in legend.  Note that artists whose label start with an underscore are ignored when legend() is called with no argument.\n"
     ]
    },
    {
     "data": {
      "image/png": "[encoded data removed]",
      "text/plain": [
       "<Figure size 640x480 with 1 Axes>"
      ]
     },
     "metadata": {},
     "output_type": "display_data"
    }
   ],
   "source": [
    "plt.plot(bin_edges[:-1], _1CDF, label='_1CDF')\n",
    "\n",
    "# Your existing code\n",
    "plt.plot(bin_edges[:-1], _1CDF, label='_1CDF')\n",
    "plt.xlabel('STOIIP')\n",
    "plt.ylabel('Cumulative Frequency')\n",
    "plt.title('1- Cumulative Distribution Function (1-CDF) vs STOIIP')\n",
    "plt.legend()\n",
    "plt.grid(True)\n",
    "\n",
    "# Adding horizontal lines for probabilities 0.9, 0.5, and 0.1\n",
    "plt.axhline(0.9, color='r', linestyle='--', label='Probability 0.9')\n",
    "plt.axhline(0.5, color='g', linestyle='--', label='Probability 0.5')\n",
    "plt.axhline(0.1, color='b', linestyle='--', label='Probability 0.1')\n",
    "\n",
    "plt.legend()\n",
    "\n",
    "# Display the plot\n",
    "plt.show()"
   ]
  },
  {
   "cell_type": "code",
   "execution_count": 12,
   "metadata": {},
   "outputs": [
    {
     "data": {
      "application/vnd.plotly.v1+json": {
       "config": {
        "plotlyServerURL": "https://plot.ly"
       },
       "data": [
        {
         "mode": "lines",
         "name": "1-CDF vs STOIIP",
         "type": "scatter",
         "x": [
          -424693.88482135755,
          -212836.5065455145,
          -979.1282696714625,
          210878.25000617153,
          422735.62828201463,
          634593.0065578577,
          846450.3848337006,
          1058307.7631095438,
          1270165.1413853867,
          1482022.51966123,
          1693879.897937073,
          1905737.2762129158,
          2117594.6544887586,
          2329452.032764602,
          2541309.411040445,
          2753166.789316288,
          2965024.167592131,
          3176881.545867974,
          3388738.9241438173,
          3600596.30241966,
          3812453.6806955035,
          4024311.058971346,
          4236168.43724719,
          4448025.815523033,
          4659883.193798875,
          4871740.572074719,
          5083597.950350562,
          5295455.328626405,
          5507312.706902248,
          5719170.085178091,
          5931027.4634539345,
          6142884.841729777,
          6354742.22000562,
          6566599.598281464,
          6778456.976557306,
          6990314.354833149,
          7202171.733108993,
          7414029.111384835,
          7625886.489660678,
          7837743.867936522,
          8049601.246212365,
          8261458.624488208,
          8473316.00276405,
          8685173.381039893,
          8897030.759315737,
          9108888.13759158,
          9320745.515867423,
          9532602.894143267,
          9744460.272419108,
          9956317.650694951,
          10168175.028970795,
          10380032.407246638,
          10591889.785522481,
          10803747.163798325,
          11015604.542074168,
          11227461.92035001,
          11439319.298625853,
          11651176.676901696,
          11863034.05517754,
          12074891.433453383,
          12286748.811729226,
          12498606.190005068,
          12710463.568280911,
          12922320.946556754,
          13134178.324832598,
          13346035.703108441,
          13557893.081384284,
          13769750.459660128,
          13981607.83793597,
          14193465.216211813,
          14405322.594487656,
          14617179.9727635,
          14829037.351039343,
          15040894.729315186,
          15252752.107591027,
          15464609.48586687,
          15676466.864142714,
          15888324.242418557,
          16100181.6206944,
          16312038.998970244,
          16523896.377246087,
          16735753.755521929,
          16947611.133797772,
          17159468.512073614,
          17371325.890349455,
          17583183.2686253,
          17795040.64690114,
          18006898.025176987,
          18218755.40345283,
          18430612.781728674,
          18642470.160004515,
          18854327.538280357,
          19066184.916556202,
          19278042.294832043,
          19489899.67310789,
          19701757.05138373,
          19913614.42965957,
          20125471.807935417,
          20337329.18621126,
          20549186.564487103
         ],
         "y": [
          0.999,
          0.999,
          0.999,
          0.999,
          0.999,
          0.999,
          0.998,
          0.988,
          0.98,
          0.959,
          0.946,
          0.925,
          0.893,
          0.869,
          0.835,
          0.8160000000000001,
          0.783,
          0.754,
          0.725,
          0.7010000000000001,
          0.6699999999999999,
          0.635,
          0.61,
          0.577,
          0.5349999999999999,
          0.506,
          0.476,
          0.44699999999999995,
          0.42700000000000005,
          0.396,
          0.369,
          0.345,
          0.32499999999999996,
          0.29500000000000004,
          0.269,
          0.252,
          0.22599999999999998,
          0.20399999999999996,
          0.18700000000000006,
          0.17100000000000004,
          0.16100000000000003,
          0.14600000000000002,
          0.129,
          0.118,
          0.10899999999999999,
          0.09499999999999997,
          0.08299999999999996,
          0.07399999999999995,
          0.06799999999999995,
          0.05900000000000005,
          0.05500000000000005,
          0.05300000000000005,
          0.04600000000000004,
          0.04300000000000004,
          0.039000000000000035,
          0.03200000000000003,
          0.028000000000000025,
          0.02400000000000002,
          0.02300000000000002,
          0.019000000000000017,
          0.017000000000000015,
          0.01200000000000001,
          0.01200000000000001,
          0.01100000000000001,
          0.010000000000000009,
          0.009000000000000008,
          0.008000000000000007,
          0.008000000000000007,
          0.007000000000000006,
          0.006000000000000005,
          0.006000000000000005,
          0.006000000000000005,
          0.0050000000000000044,
          0.0040000000000000036,
          0.0040000000000000036,
          0.0040000000000000036,
          0.0040000000000000036,
          0.0030000000000000027,
          0.0030000000000000027,
          0.0020000000000000018,
          0.0020000000000000018,
          0.0020000000000000018,
          0.0020000000000000018,
          0.0020000000000000018,
          0.0010000000000000009,
          0.0010000000000000009,
          0.0010000000000000009,
          0.0010000000000000009,
          0.0010000000000000009,
          0.0010000000000000009,
          0.0010000000000000009,
          0.0010000000000000009,
          0.0010000000000000009,
          0.0010000000000000009,
          0.0010000000000000009,
          0.0010000000000000009,
          0.0010000000000000009,
          0.0010000000000000009,
          0.0010000000000000009,
          0
         ]
        }
       ],
       "layout": {
        "legend": {
         "orientation": "h",
         "traceorder": "normal",
         "x": 0,
         "y": 1
        },
        "shapes": [
         {
          "line": {
           "color": "red",
           "dash": "dash"
          },
          "name": "Probability 0.9",
          "type": "line",
          "x0": -424693.88482135755,
          "x1": 20549186.564487103,
          "y0": 0.9,
          "y1": 0.9
         },
         {
          "line": {
           "color": "green",
           "dash": "dash"
          },
          "name": "Probability 0.5",
          "type": "line",
          "x0": -424693.88482135755,
          "x1": 20549186.564487103,
          "y0": 0.5,
          "y1": 0.5
         },
         {
          "line": {
           "color": "blue",
           "dash": "dash"
          },
          "name": "Probability 0.1",
          "type": "line",
          "x0": -424693.88482135755,
          "x1": 20549186.564487103,
          "y0": 0.1,
          "y1": 0.1
         }
        ],
        "showlegend": true,
        "template": {
         "data": {
          "bar": [
           {
            "error_x": {
             "color": "#2a3f5f"
            },
            "error_y": {
             "color": "#2a3f5f"
            },
            "marker": {
             "line": {
              "color": "#E5ECF6",
              "width": 0.5
             },
             "pattern": {
              "fillmode": "overlay",
              "size": 10,
              "solidity": 0.2
             }
            },
            "type": "bar"
           }
          ],
          "barpolar": [
           {
            "marker": {
             "line": {
              "color": "#E5ECF6",
              "width": 0.5
             },
             "pattern": {
              "fillmode": "overlay",
              "size": 10,
              "solidity": 0.2
             }
            },
            "type": "barpolar"
           }
          ],
          "carpet": [
           {
            "aaxis": {
             "endlinecolor": "#2a3f5f",
             "gridcolor": "white",
             "linecolor": "white",
             "minorgridcolor": "white",
             "startlinecolor": "#2a3f5f"
            },
            "baxis": {
             "endlinecolor": "#2a3f5f",
             "gridcolor": "white",
             "linecolor": "white",
             "minorgridcolor": "white",
             "startlinecolor": "#2a3f5f"
            },
            "type": "carpet"
           }
          ],
          "choropleth": [
           {
            "colorbar": {
             "outlinewidth": 0,
             "ticks": ""
            },
            "type": "choropleth"
           }
          ],
          "contour": [
           {
            "colorbar": {
             "outlinewidth": 0,
             "ticks": ""
            },
            "colorscale": [
             [
              0,
              "#0d0887"
             ],
             [
              0.1111111111111111,
              "#46039f"
             ],
             [
              0.2222222222222222,
              "#7201a8"
             ],
             [
              0.3333333333333333,
              "#9c179e"
             ],
             [
              0.4444444444444444,
              "#bd3786"
             ],
             [
              0.5555555555555556,
              "#d8576b"
             ],
             [
              0.6666666666666666,
              "#ed7953"
             ],
             [
              0.7777777777777778,
              "#fb9f3a"
             ],
             [
              0.8888888888888888,
              "#fdca26"
             ],
             [
              1,
              "#f0f921"
             ]
            ],
            "type": "contour"
           }
          ],
          "contourcarpet": [
           {
            "colorbar": {
             "outlinewidth": 0,
             "ticks": ""
            },
            "type": "contourcarpet"
           }
          ],
          "heatmap": [
           {
            "colorbar": {
             "outlinewidth": 0,
             "ticks": ""
            },
            "colorscale": [
             [
              0,
              "#0d0887"
             ],
             [
              0.1111111111111111,
              "#46039f"
             ],
             [
              0.2222222222222222,
              "#7201a8"
             ],
             [
              0.3333333333333333,
              "#9c179e"
             ],
             [
              0.4444444444444444,
              "#bd3786"
             ],
             [
              0.5555555555555556,
              "#d8576b"
             ],
             [
              0.6666666666666666,
              "#ed7953"
             ],
             [
              0.7777777777777778,
              "#fb9f3a"
             ],
             [
              0.8888888888888888,
              "#fdca26"
             ],
             [
              1,
              "#f0f921"
             ]
            ],
            "type": "heatmap"
           }
          ],
          "heatmapgl": [
           {
            "colorbar": {
             "outlinewidth": 0,
             "ticks": ""
            },
            "colorscale": [
             [
              0,
              "#0d0887"
             ],
             [
              0.1111111111111111,
              "#46039f"
             ],
             [
              0.2222222222222222,
              "#7201a8"
             ],
             [
              0.3333333333333333,
              "#9c179e"
             ],
             [
              0.4444444444444444,
              "#bd3786"
             ],
             [
              0.5555555555555556,
              "#d8576b"
             ],
             [
              0.6666666666666666,
              "#ed7953"
             ],
             [
              0.7777777777777778,
              "#fb9f3a"
             ],
             [
              0.8888888888888888,
              "#fdca26"
             ],
             [
              1,
              "#f0f921"
             ]
            ],
            "type": "heatmapgl"
           }
          ],
          "histogram": [
           {
            "marker": {
             "pattern": {
              "fillmode": "overlay",
              "size": 10,
              "solidity": 0.2
             }
            },
            "type": "histogram"
           }
          ],
          "histogram2d": [
           {
            "colorbar": {
             "outlinewidth": 0,
             "ticks": ""
            },
            "colorscale": [
             [
              0,
              "#0d0887"
             ],
             [
              0.1111111111111111,
              "#46039f"
             ],
             [
              0.2222222222222222,
              "#7201a8"
             ],
             [
              0.3333333333333333,
              "#9c179e"
             ],
             [
              0.4444444444444444,
              "#bd3786"
             ],
             [
              0.5555555555555556,
              "#d8576b"
             ],
             [
              0.6666666666666666,
              "#ed7953"
             ],
             [
              0.7777777777777778,
              "#fb9f3a"
             ],
             [
              0.8888888888888888,
              "#fdca26"
             ],
             [
              1,
              "#f0f921"
             ]
            ],
            "type": "histogram2d"
           }
          ],
          "histogram2dcontour": [
           {
            "colorbar": {
             "outlinewidth": 0,
             "ticks": ""
            },
            "colorscale": [
             [
              0,
              "#0d0887"
             ],
             [
              0.1111111111111111,
              "#46039f"
             ],
             [
              0.2222222222222222,
              "#7201a8"
             ],
             [
              0.3333333333333333,
              "#9c179e"
             ],
             [
              0.4444444444444444,
              "#bd3786"
             ],
             [
              0.5555555555555556,
              "#d8576b"
             ],
             [
              0.6666666666666666,
              "#ed7953"
             ],
             [
              0.7777777777777778,
              "#fb9f3a"
             ],
             [
              0.8888888888888888,
              "#fdca26"
             ],
             [
              1,
              "#f0f921"
             ]
            ],
            "type": "histogram2dcontour"
           }
          ],
          "mesh3d": [
           {
            "colorbar": {
             "outlinewidth": 0,
             "ticks": ""
            },
            "type": "mesh3d"
           }
          ],
          "parcoords": [
           {
            "line": {
             "colorbar": {
              "outlinewidth": 0,
              "ticks": ""
             }
            },
            "type": "parcoords"
           }
          ],
          "pie": [
           {
            "automargin": true,
            "type": "pie"
           }
          ],
          "scatter": [
           {
            "fillpattern": {
             "fillmode": "overlay",
             "size": 10,
             "solidity": 0.2
            },
            "type": "scatter"
           }
          ],
          "scatter3d": [
           {
            "line": {
             "colorbar": {
              "outlinewidth": 0,
              "ticks": ""
             }
            },
            "marker": {
             "colorbar": {
              "outlinewidth": 0,
              "ticks": ""
             }
            },
            "type": "scatter3d"
           }
          ],
          "scattercarpet": [
           {
            "marker": {
             "colorbar": {
              "outlinewidth": 0,
              "ticks": ""
             }
            },
            "type": "scattercarpet"
           }
          ],
          "scattergeo": [
           {
            "marker": {
             "colorbar": {
              "outlinewidth": 0,
              "ticks": ""
             }
            },
            "type": "scattergeo"
           }
          ],
          "scattergl": [
           {
            "marker": {
             "colorbar": {
              "outlinewidth": 0,
              "ticks": ""
             }
            },
            "type": "scattergl"
           }
          ],
          "scattermapbox": [
           {
            "marker": {
             "colorbar": {
              "outlinewidth": 0,
              "ticks": ""
             }
            },
            "type": "scattermapbox"
           }
          ],
          "scatterpolar": [
           {
            "marker": {
             "colorbar": {
              "outlinewidth": 0,
              "ticks": ""
             }
            },
            "type": "scatterpolar"
           }
          ],
          "scatterpolargl": [
           {
            "marker": {
             "colorbar": {
              "outlinewidth": 0,
              "ticks": ""
             }
            },
            "type": "scatterpolargl"
           }
          ],
          "scatterternary": [
           {
            "marker": {
             "colorbar": {
              "outlinewidth": 0,
              "ticks": ""
             }
            },
            "type": "scatterternary"
           }
          ],
          "surface": [
           {
            "colorbar": {
             "outlinewidth": 0,
             "ticks": ""
            },
            "colorscale": [
             [
              0,
              "#0d0887"
             ],
             [
              0.1111111111111111,
              "#46039f"
             ],
             [
              0.2222222222222222,
              "#7201a8"
             ],
             [
              0.3333333333333333,
              "#9c179e"
             ],
             [
              0.4444444444444444,
              "#bd3786"
             ],
             [
              0.5555555555555556,
              "#d8576b"
             ],
             [
              0.6666666666666666,
              "#ed7953"
             ],
             [
              0.7777777777777778,
              "#fb9f3a"
             ],
             [
              0.8888888888888888,
              "#fdca26"
             ],
             [
              1,
              "#f0f921"
             ]
            ],
            "type": "surface"
           }
          ],
          "table": [
           {
            "cells": {
             "fill": {
              "color": "#EBF0F8"
             },
             "line": {
              "color": "white"
             }
            },
            "header": {
             "fill": {
              "color": "#C8D4E3"
             },
             "line": {
              "color": "white"
             }
            },
            "type": "table"
           }
          ]
         },
         "layout": {
          "annotationdefaults": {
           "arrowcolor": "#2a3f5f",
           "arrowhead": 0,
           "arrowwidth": 1
          },
          "autotypenumbers": "strict",
          "coloraxis": {
           "colorbar": {
            "outlinewidth": 0,
            "ticks": ""
           }
          },
          "colorscale": {
           "diverging": [
            [
             0,
             "#8e0152"
            ],
            [
             0.1,
             "#c51b7d"
            ],
            [
             0.2,
             "#de77ae"
            ],
            [
             0.3,
             "#f1b6da"
            ],
            [
             0.4,
             "#fde0ef"
            ],
            [
             0.5,
             "#f7f7f7"
            ],
            [
             0.6,
             "#e6f5d0"
            ],
            [
             0.7,
             "#b8e186"
            ],
            [
             0.8,
             "#7fbc41"
            ],
            [
             0.9,
             "#4d9221"
            ],
            [
             1,
             "#276419"
            ]
           ],
           "sequential": [
            [
             0,
             "#0d0887"
            ],
            [
             0.1111111111111111,
             "#46039f"
            ],
            [
             0.2222222222222222,
             "#7201a8"
            ],
            [
             0.3333333333333333,
             "#9c179e"
            ],
            [
             0.4444444444444444,
             "#bd3786"
            ],
            [
             0.5555555555555556,
             "#d8576b"
            ],
            [
             0.6666666666666666,
             "#ed7953"
            ],
            [
             0.7777777777777778,
             "#fb9f3a"
            ],
            [
             0.8888888888888888,
             "#fdca26"
            ],
            [
             1,
             "#f0f921"
            ]
           ],
           "sequentialminus": [
            [
             0,
             "#0d0887"
            ],
            [
             0.1111111111111111,
             "#46039f"
            ],
            [
             0.2222222222222222,
             "#7201a8"
            ],
            [
             0.3333333333333333,
             "#9c179e"
            ],
            [
             0.4444444444444444,
             "#bd3786"
            ],
            [
             0.5555555555555556,
             "#d8576b"
            ],
            [
             0.6666666666666666,
             "#ed7953"
            ],
            [
             0.7777777777777778,
             "#fb9f3a"
            ],
            [
             0.8888888888888888,
             "#fdca26"
            ],
            [
             1,
             "#f0f921"
            ]
           ]
          },
          "colorway": [
           "#636efa",
           "#EF553B",
           "#00cc96",
           "#ab63fa",
           "#FFA15A",
           "#19d3f3",
           "#FF6692",
           "#B6E880",
           "#FF97FF",
           "#FECB52"
          ],
          "font": {
           "color": "#2a3f5f"
          },
          "geo": {
           "bgcolor": "white",
           "lakecolor": "white",
           "landcolor": "#E5ECF6",
           "showlakes": true,
           "showland": true,
           "subunitcolor": "white"
          },
          "hoverlabel": {
           "align": "left"
          },
          "hovermode": "closest",
          "mapbox": {
           "style": "light"
          },
          "paper_bgcolor": "white",
          "plot_bgcolor": "#E5ECF6",
          "polar": {
           "angularaxis": {
            "gridcolor": "white",
            "linecolor": "white",
            "ticks": ""
           },
           "bgcolor": "#E5ECF6",
           "radialaxis": {
            "gridcolor": "white",
            "linecolor": "white",
            "ticks": ""
           }
          },
          "scene": {
           "xaxis": {
            "backgroundcolor": "#E5ECF6",
            "gridcolor": "white",
            "gridwidth": 2,
            "linecolor": "white",
            "showbackground": true,
            "ticks": "",
            "zerolinecolor": "white"
           },
           "yaxis": {
            "backgroundcolor": "#E5ECF6",
            "gridcolor": "white",
            "gridwidth": 2,
            "linecolor": "white",
            "showbackground": true,
            "ticks": "",
            "zerolinecolor": "white"
           },
           "zaxis": {
            "backgroundcolor": "#E5ECF6",
            "gridcolor": "white",
            "gridwidth": 2,
            "linecolor": "white",
            "showbackground": true,
            "ticks": "",
            "zerolinecolor": "white"
           }
          },
          "shapedefaults": {
           "line": {
            "color": "#2a3f5f"
           }
          },
          "ternary": {
           "aaxis": {
            "gridcolor": "white",
            "linecolor": "white",
            "ticks": ""
           },
           "baxis": {
            "gridcolor": "white",
            "linecolor": "white",
            "ticks": ""
           },
           "bgcolor": "#E5ECF6",
           "caxis": {
            "gridcolor": "white",
            "linecolor": "white",
            "ticks": ""
           }
          },
          "title": {
           "x": 0.05
          },
          "xaxis": {
           "automargin": true,
           "gridcolor": "white",
           "linecolor": "white",
           "ticks": "",
           "title": {
            "standoff": 15
           },
           "zerolinecolor": "white",
           "zerolinewidth": 2
          },
          "yaxis": {
           "automargin": true,
           "gridcolor": "white",
           "linecolor": "white",
           "ticks": "",
           "title": {
            "standoff": 15
           },
           "zerolinecolor": "white",
           "zerolinewidth": 2
          }
         }
        },
        "title": {
         "text": "1- Cumulative Distribution Function (1-CDF) vs STOIIP"
        },
        "xaxis": {
         "title": {
          "text": "STOIIP"
         }
        },
        "yaxis": {
         "title": {
          "text": "Cumulative Frequency"
         }
        }
       }
      }
     },
     "metadata": {},
     "output_type": "display_data"
    }
   ],
   "source": [
    "\n",
    "\n",
    "# Create a figure using plotly\n",
    "fig = go.Figure()\n",
    "\n",
    "# Plot the _1CDF line\n",
    "fig.add_trace(go.Scatter(x=bin_edges[:-1], y=_1CDF, mode='lines', name='1-CDF vs STOIIP'))\n",
    "\n",
    "# Adding horizontal lines for probabilities 0.9, 0.5, and 0.1\n",
    "fig.add_shape(dict(type=\"line\", x0=min(bin_edges[:-1]), x1=max(bin_edges[:-1]), y0=0.9, y1=0.9, line=dict(color=\"red\", dash=\"dash\"), name='Probability 0.9'))\n",
    "fig.add_shape(dict(type=\"line\", x0=min(bin_edges[:-1]), x1=max(bin_edges[:-1]), y0=0.5, y1=0.5, line=dict(color=\"green\", dash=\"dash\"), name='Probability 0.5'))\n",
    "fig.add_shape(dict(type=\"line\", x0=min(bin_edges[:-1]), x1=max(bin_edges[:-1]), y0=0.1, y1=0.1, line=dict(color=\"blue\", dash=\"dash\"), name='Probability 0.1'))\n",
    "\n",
    "# Update layout\n",
    "fig.update_layout(\n",
    "    xaxis=dict(title='STOIIP'),\n",
    "    yaxis=dict(title='Cumulative Frequency'),\n",
    "    title='1- Cumulative Distribution Function (1-CDF) vs STOIIP',\n",
    "    showlegend=True,\n",
    "    legend=dict(x=0, y=1, traceorder='normal', orientation='h'),\n",
    ")\n",
    "\n",
    "# Show the interactive plot\n",
    "fig.show()"
   ]
  },
  {
   "cell_type": "code",
   "execution_count": null,
   "metadata": {},
   "outputs": [],
   "source": []
  }
 ],
 "metadata": {
  "kernelspec": {
   "display_name": "base",
   "language": "python",
   "name": "python3"
  },
  "language_info": {
   "codemirror_mode": {
    "name": "ipython",
    "version": 3
   },
   "file_extension": ".py",
   "mimetype": "text/x-python",
   "name": "python",
   "nbconvert_exporter": "python",
   "pygments_lexer": "ipython3",
   "version": "3.10.9"
  }
 },
 "nbformat": 4,
 "nbformat_minor": 2
}
