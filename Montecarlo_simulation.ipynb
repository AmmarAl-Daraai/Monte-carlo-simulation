{
 "cells": [
  {
   "cell_type": "code",
   "execution_count": 44,
   "metadata": {},
   "outputs": [],
   "source": [
    "#import libraries needed \n",
    "import numpy as np\n",
    "import pandas as pd\n",
    "import matplotlib.pyplot as plt\n",
    "import random\n",
    "from scipy.stats import lognorm, norm, beta\n",
    "\n",
    "import plotly.express as px\n",
    "import plotly.graph_objects as go"
   ]
  },
  {
   "cell_type": "code",
   "execution_count": 45,
   "metadata": {},
   "outputs": [],
   "source": [
    "# input parameters \n",
    "\n",
    "#Area=  #Distribution Type=LOG_NORMAL Mean: 800 acres Std. Dev: 0.2\n",
    "#Thickness= #Distribution Type=LOG_NORMAL Mean: 80 ft Std. Dev: 0.16\n",
    "#Porosity=  #Distribution Type=NORMAL Mean: 0.22 Std. Dev: 0.0271\n",
    "#So=    #Distribution Type=BETA Alpha : 0.151 Beta : 0.071 lower bound: 0.35 upper bound: 0.82\n",
    "#oil_FVF=#  Distribution Type=constant 1.22 rb/stb\n",
    "#Recovery_Factor=   #Distribution Type=NORMAL Mean: 24% St. Dev.: 6.25%\n"
   ]
  },
  {
   "cell_type": "code",
   "execution_count": 46,
   "metadata": {},
   "outputs": [
    {
     "name": "stdout",
     "output_type": "stream",
     "text": [
      "Area=[702.51094957 687.81671733 886.04093423 961.30167396 717.0186444 ]\n",
      "Thickness=[74.84017072 53.6169901  93.46257483 81.51806462 70.68996003]\n",
      "Porosity=[0.18801108 0.20551669 0.20691598 0.22383849 0.19591825]\n",
      "So=[0.81995169 0.82       0.36550916 0.81999999 0.81378306]\n",
      "Oil_FVF=[3.2 3.2 3.2 3.2 3.2]\n",
      "Recovery_Factor=[0.32158285 0.21586101 0.2179929  0.33137475 0.18065926]\n"
     ]
    }
   ],
   "source": [
    "# Area \n",
    "Area = np.random.lognormal(np.log(800),0.2,1000)\n",
    "print(f\"Area={Area[:5]}\")\n",
    "\n",
    "#Thickness\n",
    "Thickness= np.random.lognormal(np.log(80),0.16,1000)\n",
    "print(f\"Thickness={Thickness[:5]}\")\n",
    "\n",
    "#Porosity\n",
    "Porosity=np.random.normal(0.22,0.0271,1000)\n",
    "print(f\"Porosity={Porosity[:5]}\")\n",
    "\n",
    "#So\n",
    "def beta_distribution_with_bounds(size, alpha, beta, lower_bound, upper_bound):\n",
    "    # Generate random numbers from standard beta distribution\n",
    "    standard_beta = np.random.beta(alpha, beta, size)\n",
    "\n",
    "    # Transform to the desired range [lower_bound, upper_bound]\n",
    "    result= lower_bound + (upper_bound - lower_bound) * standard_beta\n",
    "    return result\n",
    "\n",
    "So=beta_distribution_with_bounds(1000,0.151,0.071,0.35,0.82)\n",
    "print(f\"So={So[:5]}\")\n",
    "\n",
    "#oil_FVF\n",
    "Oil_FVF = np.full(1000, 3.2)\n",
    "print(f\"Oil_FVF={Oil_FVF[:5]}\")\n",
    "\n",
    "#Recovery_Factor\n",
    "Recovery_Factor=np.random.normal(0.24,0.0625,1000)\n",
    "print(f\"Recovery_Factor={Recovery_Factor[:5]}\")"
   ]
  },
  {
   "cell_type": "code",
   "execution_count": 47,
   "metadata": {},
   "outputs": [
    {
     "name": "stdout",
     "output_type": "stream",
     "text": [
      "Resources=[19649856.32305082 15067316.01160568 15183909.87246625 34870804.50026082\n",
      " 19591672.61773903]\n",
      "Reserve=[ 6319056.77579706  3252445.99580858  3309984.51400656 11555304.05915859\n",
      "  3539417.13894013]\n"
     ]
    }
   ],
   "source": [
    "#Resources and Reserve \n",
    "Resources=(7758*Area*Thickness*Porosity*So)/Oil_FVF\n",
    "print(f\"Resources={Resources[:5]}\")\n",
    "\n",
    "Reserve=Resources*Recovery_Factor\n",
    "print(f\"Reserve={Reserve[:5]}\")\n"
   ]
  },
  {
   "cell_type": "code",
   "execution_count": 48,
   "metadata": {},
   "outputs": [
    {
     "data": {
      "text/html": [
       "<div>\n",
       "<style scoped>\n",
       "    .dataframe tbody tr th:only-of-type {\n",
       "        vertical-align: middle;\n",
       "    }\n",
       "\n",
       "    .dataframe tbody tr th {\n",
       "        vertical-align: top;\n",
       "    }\n",
       "\n",
       "    .dataframe thead th {\n",
       "        text-align: right;\n",
       "    }\n",
       "</style>\n",
       "<table border=\"1\" class=\"dataframe\">\n",
       "  <thead>\n",
       "    <tr style=\"text-align: right;\">\n",
       "      <th></th>\n",
       "      <th>Area</th>\n",
       "      <th>Thickness</th>\n",
       "      <th>Porosity</th>\n",
       "      <th>So</th>\n",
       "      <th>Oil_FVF</th>\n",
       "      <th>Recovery_Factor</th>\n",
       "      <th>Resources</th>\n",
       "      <th>Reserve</th>\n",
       "    </tr>\n",
       "  </thead>\n",
       "  <tbody>\n",
       "    <tr>\n",
       "      <th>0</th>\n",
       "      <td>702.510950</td>\n",
       "      <td>74.840171</td>\n",
       "      <td>0.188011</td>\n",
       "      <td>0.819952</td>\n",
       "      <td>3.2</td>\n",
       "      <td>0.321583</td>\n",
       "      <td>1.964986e+07</td>\n",
       "      <td>6.319057e+06</td>\n",
       "    </tr>\n",
       "    <tr>\n",
       "      <th>1</th>\n",
       "      <td>687.816717</td>\n",
       "      <td>53.616990</td>\n",
       "      <td>0.205517</td>\n",
       "      <td>0.820000</td>\n",
       "      <td>3.2</td>\n",
       "      <td>0.215861</td>\n",
       "      <td>1.506732e+07</td>\n",
       "      <td>3.252446e+06</td>\n",
       "    </tr>\n",
       "    <tr>\n",
       "      <th>2</th>\n",
       "      <td>886.040934</td>\n",
       "      <td>93.462575</td>\n",
       "      <td>0.206916</td>\n",
       "      <td>0.365509</td>\n",
       "      <td>3.2</td>\n",
       "      <td>0.217993</td>\n",
       "      <td>1.518391e+07</td>\n",
       "      <td>3.309985e+06</td>\n",
       "    </tr>\n",
       "    <tr>\n",
       "      <th>3</th>\n",
       "      <td>961.301674</td>\n",
       "      <td>81.518065</td>\n",
       "      <td>0.223838</td>\n",
       "      <td>0.820000</td>\n",
       "      <td>3.2</td>\n",
       "      <td>0.331375</td>\n",
       "      <td>3.487080e+07</td>\n",
       "      <td>1.155530e+07</td>\n",
       "    </tr>\n",
       "    <tr>\n",
       "      <th>4</th>\n",
       "      <td>717.018644</td>\n",
       "      <td>70.689960</td>\n",
       "      <td>0.195918</td>\n",
       "      <td>0.813783</td>\n",
       "      <td>3.2</td>\n",
       "      <td>0.180659</td>\n",
       "      <td>1.959167e+07</td>\n",
       "      <td>3.539417e+06</td>\n",
       "    </tr>\n",
       "    <tr>\n",
       "      <th>...</th>\n",
       "      <td>...</td>\n",
       "      <td>...</td>\n",
       "      <td>...</td>\n",
       "      <td>...</td>\n",
       "      <td>...</td>\n",
       "      <td>...</td>\n",
       "      <td>...</td>\n",
       "      <td>...</td>\n",
       "    </tr>\n",
       "    <tr>\n",
       "      <th>995</th>\n",
       "      <td>538.978714</td>\n",
       "      <td>74.997641</td>\n",
       "      <td>0.232096</td>\n",
       "      <td>0.798152</td>\n",
       "      <td>3.2</td>\n",
       "      <td>0.140147</td>\n",
       "      <td>1.815399e+07</td>\n",
       "      <td>2.544219e+06</td>\n",
       "    </tr>\n",
       "    <tr>\n",
       "      <th>996</th>\n",
       "      <td>589.777556</td>\n",
       "      <td>67.642640</td>\n",
       "      <td>0.262552</td>\n",
       "      <td>0.820000</td>\n",
       "      <td>3.2</td>\n",
       "      <td>0.192904</td>\n",
       "      <td>2.082270e+07</td>\n",
       "      <td>4.016774e+06</td>\n",
       "    </tr>\n",
       "    <tr>\n",
       "      <th>997</th>\n",
       "      <td>855.184686</td>\n",
       "      <td>85.831262</td>\n",
       "      <td>0.201865</td>\n",
       "      <td>0.818837</td>\n",
       "      <td>3.2</td>\n",
       "      <td>0.332482</td>\n",
       "      <td>2.941460e+07</td>\n",
       "      <td>9.779839e+06</td>\n",
       "    </tr>\n",
       "    <tr>\n",
       "      <th>998</th>\n",
       "      <td>816.307872</td>\n",
       "      <td>95.110743</td>\n",
       "      <td>0.210550</td>\n",
       "      <td>0.819975</td>\n",
       "      <td>3.2</td>\n",
       "      <td>0.266581</td>\n",
       "      <td>3.249663e+07</td>\n",
       "      <td>8.662995e+06</td>\n",
       "    </tr>\n",
       "    <tr>\n",
       "      <th>999</th>\n",
       "      <td>632.196388</td>\n",
       "      <td>76.825747</td>\n",
       "      <td>0.213835</td>\n",
       "      <td>0.780548</td>\n",
       "      <td>3.2</td>\n",
       "      <td>0.320723</td>\n",
       "      <td>1.965339e+07</td>\n",
       "      <td>6.303293e+06</td>\n",
       "    </tr>\n",
       "  </tbody>\n",
       "</table>\n",
       "<p>1000 rows × 8 columns</p>\n",
       "</div>"
      ],
      "text/plain": [
       "           Area  Thickness  Porosity        So  Oil_FVF  Recovery_Factor  \\\n",
       "0    702.510950  74.840171  0.188011  0.819952      3.2         0.321583   \n",
       "1    687.816717  53.616990  0.205517  0.820000      3.2         0.215861   \n",
       "2    886.040934  93.462575  0.206916  0.365509      3.2         0.217993   \n",
       "3    961.301674  81.518065  0.223838  0.820000      3.2         0.331375   \n",
       "4    717.018644  70.689960  0.195918  0.813783      3.2         0.180659   \n",
       "..          ...        ...       ...       ...      ...              ...   \n",
       "995  538.978714  74.997641  0.232096  0.798152      3.2         0.140147   \n",
       "996  589.777556  67.642640  0.262552  0.820000      3.2         0.192904   \n",
       "997  855.184686  85.831262  0.201865  0.818837      3.2         0.332482   \n",
       "998  816.307872  95.110743  0.210550  0.819975      3.2         0.266581   \n",
       "999  632.196388  76.825747  0.213835  0.780548      3.2         0.320723   \n",
       "\n",
       "        Resources       Reserve  \n",
       "0    1.964986e+07  6.319057e+06  \n",
       "1    1.506732e+07  3.252446e+06  \n",
       "2    1.518391e+07  3.309985e+06  \n",
       "3    3.487080e+07  1.155530e+07  \n",
       "4    1.959167e+07  3.539417e+06  \n",
       "..            ...           ...  \n",
       "995  1.815399e+07  2.544219e+06  \n",
       "996  2.082270e+07  4.016774e+06  \n",
       "997  2.941460e+07  9.779839e+06  \n",
       "998  3.249663e+07  8.662995e+06  \n",
       "999  1.965339e+07  6.303293e+06  \n",
       "\n",
       "[1000 rows x 8 columns]"
      ]
     },
     "execution_count": 48,
     "metadata": {},
     "output_type": "execute_result"
    }
   ],
   "source": [
    "data = {\n",
    "    'Area': Area,\n",
    "    'Thickness': Thickness,\n",
    "    'Porosity': Porosity,\n",
    "    'So': So,\n",
    "    'Oil_FVF': Oil_FVF,\n",
    "    'Recovery_Factor': Recovery_Factor,\n",
    "    'Resources': Resources,\n",
    "    'Reserve': Reserve\n",
    "}\n",
    "\n",
    "Data_frame = pd.DataFrame(data)\n",
    "Data_frame"
   ]
  },
  {
   "cell_type": "code",
   "execution_count": 49,
   "metadata": {},
   "outputs": [
    {
     "name": "stdout",
     "output_type": "stream",
     "text": [
      "Minimum values for the entire DataFrame:\n",
      "Area               4.211127e+02\n",
      "Thickness          5.185042e+01\n",
      "Porosity           1.303865e-01\n",
      "So                 3.500000e-01\n",
      "Oil_FVF            3.200000e+00\n",
      "Recovery_Factor    4.196190e-02\n",
      "Resources          4.282059e+06\n",
      "Reserve            7.976656e+05\n",
      "dtype: float64\n"
     ]
    },
    {
     "data": {
      "text/plain": [
       "array([4.21112704e+02, 5.18504190e+01, 1.30386527e-01, 3.50000000e-01,\n",
       "       3.20000000e+00, 4.19618981e-02, 4.28205911e+06, 7.97665596e+05])"
      ]
     },
     "execution_count": 49,
     "metadata": {},
     "output_type": "execute_result"
    }
   ],
   "source": [
    "# Find the minimum values for the entire DataFrame\n",
    "min_values_df = Data_frame.min()\n",
    "\n",
    "# Find the minimum values for specific columns\n",
    "min_values_area = Data_frame['Area'].min()\n",
    "min_values_thickness = Data_frame['Thickness'].min()\n",
    "\n",
    "# Print the results\n",
    "print(\"Minimum values for the entire DataFrame:\")\n",
    "print(min_values_df)\n",
    "#convert results to numpy array \n",
    "min_df_array=np.array(min_values_df)\n",
    "min_df_array\n"
   ]
  },
  {
   "cell_type": "code",
   "execution_count": 50,
   "metadata": {},
   "outputs": [
    {
     "name": "stdout",
     "output_type": "stream",
     "text": [
      "Maximum values for the entire DataFrame:\n",
      "Area               1.454753e+03\n",
      "Thickness          1.366822e+02\n",
      "Porosity           2.973533e-01\n",
      "So                 8.200000e-01\n",
      "Oil_FVF            3.200000e+00\n",
      "Recovery_Factor    4.422701e-01\n",
      "Resources          7.214520e+07\n",
      "Reserve            1.840792e+07\n",
      "dtype: float64\n"
     ]
    },
    {
     "data": {
      "text/plain": [
       "array([1.45475291e+03, 1.36682233e+02, 2.97353311e-01, 8.20000000e-01,\n",
       "       3.20000000e+00, 4.42270101e-01, 7.21452036e+07, 1.84079232e+07])"
      ]
     },
     "execution_count": 50,
     "metadata": {},
     "output_type": "execute_result"
    }
   ],
   "source": [
    "# Find the Maximum values for the entire DataFrame\n",
    "max_values_df = Data_frame.max()\n",
    "\n",
    "# Find the minimum values for specific columns\n",
    "max_values_area = Data_frame['Area'].max()\n",
    "max_values_thickness = Data_frame['Thickness'].max()\n",
    "\n",
    "# Print the results\n",
    "print(\"Maximum values for the entire DataFrame:\")\n",
    "print(max_values_df)\n",
    "#convert results to numpy array \n",
    "max_df_array=np.array(max_values_df)\n",
    "max_df_array\n"
   ]
  },
  {
   "cell_type": "code",
   "execution_count": 51,
   "metadata": {},
   "outputs": [
    {
     "name": "stdout",
     "output_type": "stream",
     "text": [
      "Frequency Distribution:\n",
      "[ 2  4  3  4  7 17 13 16 19 31 23 17 26 31 21 26 27 21 24 30 24 26 33 24\n",
      " 22 30 14 20 17 21 21 15 22 26 25 15 16 25 14 18 17  8 16 11 13 16 12 10\n",
      " 16  4  8  7  3  5  5  3  5  4  3  1  7  3  4  3  2  2  4  1  2  0  1  1\n",
      "  0  1  0  0  2  2  2  0  0  0  0  1  1  0  0  0  0  0  1  0  0  0  1  0\n",
      "  1  0  0  0  1]\n",
      "\n",
      "Bin Edges:\n",
      "[  797665.59649028   973768.17233274  1149870.7481752   1325973.32401766\n",
      "  1502075.89986012  1678178.47570258  1854281.05154504  2030383.6273875\n",
      "  2206486.20322996  2382588.77907242  2558691.35491488  2734793.93075734\n",
      "  2910896.5065998   3086999.08244227  3263101.65828473  3439204.23412719\n",
      "  3615306.80996965  3791409.38581211  3967511.96165457  4143614.53749703\n",
      "  4319717.11333949  4495819.68918195  4671922.26502441  4848024.84086687\n",
      "  5024127.41670933  5200229.99255179  5376332.56839425  5552435.14423671\n",
      "  5728537.72007917  5904640.29592163  6080742.8717641   6256845.44760656\n",
      "  6432948.02344902  6609050.59929148  6785153.17513394  6961255.7509764\n",
      "  7137358.32681886  7313460.90266132  7489563.47850378  7665666.05434624\n",
      "  7841768.6301887   8017871.20603116  8193973.78187362  8370076.35771608\n",
      "  8546178.93355854  8722281.509401    8898384.08524347  9074486.66108593\n",
      "  9250589.23692839  9426691.81277085  9602794.38861331  9778896.96445577\n",
      "  9954999.54029823 10131102.11614069 10307204.69198315 10483307.26782561\n",
      " 10659409.84366807 10835512.41951053 11011614.99535299 11187717.57119545\n",
      " 11363820.14703791 11539922.72288037 11716025.29872284 11892127.8745653\n",
      " 12068230.45040776 12244333.02625022 12420435.60209268 12596538.17793514\n",
      " 12772640.7537776  12948743.32962006 13124845.90546252 13300948.48130498\n",
      " 13477051.05714744 13653153.6329899  13829256.20883236 14005358.78467482\n",
      " 14181461.36051728 14357563.93635974 14533666.51220221 14709769.08804467\n",
      " 14885871.66388713 15061974.23972959 15238076.81557205 15414179.39141451\n",
      " 15590281.96725697 15766384.54309943 15942487.11894189 16118589.69478435\n",
      " 16294692.27062681 16470794.84646927 16646897.42231173 16822999.99815419\n",
      " 16999102.57399665 17175205.14983911 17351307.72568157 17527410.30152404\n",
      " 17703512.87736649 17879615.45320896 18055718.02905142 18231820.60489387\n",
      " 18407923.18073634 18584025.7565788 ]\n"
     ]
    }
   ],
   "source": [
    "\n",
    "# Specify parameters\n",
    "max_Reserve = Data_frame['Reserve'].max()\n",
    "min_Reserve = Data_frame['Reserve'].min()\n",
    "number_bins = 100\n",
    "Increment = (max_Reserve - min_Reserve) / number_bins\n",
    "\n",
    "# Create frequency distribution using numpy.histogram\n",
    "hist, bin_edges = np.histogram(Data_frame['Reserve'], bins=np.arange(min_Reserve, max_Reserve + Increment, Increment))\n",
    "\n",
    "# Print the results\n",
    "print(\"Frequency Distribution:\")\n",
    "print(hist)\n",
    "print(\"\\nBin Edges:\")\n",
    "print(bin_edges)"
   ]
  },
  {
   "cell_type": "code",
   "execution_count": 52,
   "metadata": {},
   "outputs": [
    {
     "data": {
      "text/plain": [
       "array([0.998, 0.994, 0.991, 0.987, 0.98 , 0.963, 0.95 , 0.934, 0.915,\n",
       "       0.884, 0.861, 0.844, 0.818, 0.787, 0.766, 0.74 , 0.713, 0.692,\n",
       "       0.668, 0.638, 0.614, 0.588, 0.555, 0.531, 0.509, 0.479, 0.465,\n",
       "       0.445, 0.428, 0.407, 0.386, 0.371, 0.349, 0.323, 0.298, 0.283,\n",
       "       0.267, 0.242, 0.228, 0.21 , 0.193, 0.185, 0.169, 0.158, 0.145,\n",
       "       0.129, 0.117, 0.107, 0.091, 0.087, 0.079, 0.072, 0.069, 0.064,\n",
       "       0.059, 0.056, 0.051, 0.047, 0.044, 0.043, 0.036, 0.033, 0.029,\n",
       "       0.026, 0.024, 0.022, 0.018, 0.017, 0.015, 0.015, 0.014, 0.013,\n",
       "       0.013, 0.012, 0.012, 0.012, 0.01 , 0.008, 0.006, 0.006, 0.006,\n",
       "       0.006, 0.006, 0.005, 0.004, 0.004, 0.004, 0.004, 0.004, 0.004,\n",
       "       0.003, 0.003, 0.003, 0.003, 0.002, 0.002, 0.001, 0.001, 0.001,\n",
       "       0.001, 0.   ])"
      ]
     },
     "execution_count": 52,
     "metadata": {},
     "output_type": "execute_result"
    }
   ],
   "source": [
    "# Calculate cumulative frequency\n",
    "cumulative_freq = np.cumsum(hist)\n",
    "CDF=cumulative_freq/1000\n",
    "_1CDF=1-CDF\n",
    "_1CDF"
   ]
  },
  {
   "cell_type": "code",
   "execution_count": 53,
   "metadata": {},
   "outputs": [
    {
     "name": "stderr",
     "output_type": "stream",
     "text": [
      "No artists with labels found to put in legend.  Note that artists whose label start with an underscore are ignored when legend() is called with no argument.\n"
     ]
    },
    {
     "data": {
      "image/png": "[encoded data removed]",
      "text/plain": [
       "<Figure size 640x480 with 1 Axes>"
      ]
     },
     "metadata": {},
     "output_type": "display_data"
    }
   ],
   "source": [
    "plt.plot(bin_edges[:-1], _1CDF, label='_1CDF')\n",
    "plt.xlabel('STOIIP')\n",
    "plt.ylabel('Cumulative Frequency')\n",
    "plt.title('1- Cumulative Distribution Function ( 1- CDF ) vs STOIIP')\n",
    "plt.legend()\n",
    "plt.grid(True)\n",
    "plt.show()"
   ]
  },
  {
   "cell_type": "code",
   "execution_count": 54,
   "metadata": {},
   "outputs": [
    {
     "name": "stderr",
     "output_type": "stream",
     "text": [
      "No artists with labels found to put in legend.  Note that artists whose label start with an underscore are ignored when legend() is called with no argument.\n"
     ]
    },
    {
     "data": {
      "image/png": "[encoded data removed]",
      "text/plain": [
       "<Figure size 640x480 with 1 Axes>"
      ]
     },
     "metadata": {},
     "output_type": "display_data"
    }
   ],
   "source": [
    "plt.plot(bin_edges[:-1], _1CDF, label='_1CDF')\n",
    "\n",
    "# Your existing code\n",
    "plt.plot(bin_edges[:-1], _1CDF, label='_1CDF')\n",
    "plt.xlabel('STOIIP')\n",
    "plt.ylabel('Cumulative Frequency')\n",
    "plt.title('1- Cumulative Distribution Function (1-CDF) vs STOIIP')\n",
    "plt.legend()\n",
    "plt.grid(True)\n",
    "\n",
    "# Adding horizontal lines for probabilities 0.9, 0.5, and 0.1\n",
    "plt.axhline(0.9, color='r', linestyle='--', label='Probability 0.9')\n",
    "plt.axhline(0.5, color='g', linestyle='--', label='Probability 0.5')\n",
    "plt.axhline(0.1, color='b', linestyle='--', label='Probability 0.1')\n",
    "\n",
    "plt.legend()\n",
    "\n",
    "# Display the plot\n",
    "plt.show()"
   ]
  },
  {
   "cell_type": "code",
   "execution_count": 61,
   "metadata": {},
   "outputs": [
    {
     "data": {
      "application/vnd.plotly.v1+json": {
       "config": {
        "plotlyServerURL": "https://plot.ly"
       },
       "data": [
        {
         "mode": "lines",
         "name": "1-CDF vs STOIIP",
         "type": "scatter",
         "x": [
          797665.5964902767,
          973768.1723327374,
          1149870.748175198,
          1325973.3240176586,
          1502075.8998601192,
          1678178.4757025798,
          1854281.0515450404,
          2030383.627387501,
          2206486.203229962,
          2382588.7790724225,
          2558691.354914883,
          2734793.930757344,
          2910896.5065998044,
          3086999.082442265,
          3263101.6582847256,
          3439204.2341271862,
          3615306.809969647,
          3791409.3858121075,
          3967511.961654568,
          4143614.5374970287,
          4319717.113339489,
          4495819.68918195,
          4671922.265024411,
          4848024.840866871,
          5024127.416709332,
          5200229.992551792,
          5376332.568394253,
          5552435.144236714,
          5728537.720079174,
          5904640.295921635,
          6080742.8717640955,
          6256845.447606556,
          6432948.023449017,
          6609050.599291477,
          6785153.175133938,
          6961255.750976399,
          7137358.326818859,
          7313460.90266132,
          7489563.47850378,
          7665666.054346241,
          7841768.630188702,
          8017871.206031162,
          8193973.781873623,
          8370076.3577160835,
          8546178.933558544,
          8722281.509401005,
          8898384.085243465,
          9074486.661085926,
          9250589.236928387,
          9426691.812770847,
          9602794.388613308,
          9778896.964455768,
          9954999.54029823,
          10131102.11614069,
          10307204.69198315,
          10483307.267825611,
          10659409.843668072,
          10835512.419510532,
          11011614.995352993,
          11187717.571195453,
          11363820.147037914,
          11539922.722880375,
          11716025.298722835,
          11892127.874565296,
          12068230.450407756,
          12244333.026250217,
          12420435.602092678,
          12596538.177935138,
          12772640.753777599,
          12948743.32962006,
          13124845.90546252,
          13300948.48130498,
          13477051.057147441,
          13653153.632989902,
          13829256.208832363,
          14005358.784674823,
          14181461.360517284,
          14357563.936359745,
          14533666.512202205,
          14709769.088044666,
          14885871.663887126,
          15061974.239729587,
          15238076.815572048,
          15414179.391414508,
          15590281.967256969,
          15766384.54309943,
          15942487.11894189,
          16118589.69478435,
          16294692.270626811,
          16470794.846469272,
          16646897.422311733,
          16822999.998154193,
          16999102.573996652,
          17175205.149839114,
          17351307.725681573,
          17527410.301524036,
          17703512.877366494,
          17879615.453208957,
          18055718.029051416,
          18231820.604893874,
          18407923.180736337
         ],
         "y": [
          0.998,
          0.994,
          0.991,
          0.987,
          0.98,
          0.963,
          0.95,
          0.9339999999999999,
          0.915,
          0.884,
          0.861,
          0.844,
          0.8180000000000001,
          0.787,
          0.766,
          0.74,
          0.7130000000000001,
          0.692,
          0.6679999999999999,
          0.638,
          0.614,
          0.5880000000000001,
          0.5549999999999999,
          0.531,
          0.509,
          0.479,
          0.46499999999999997,
          0.44499999999999995,
          0.42800000000000005,
          0.40700000000000003,
          0.386,
          0.371,
          0.349,
          0.32299999999999995,
          0.29800000000000004,
          0.28300000000000003,
          0.267,
          0.242,
          0.22799999999999998,
          0.20999999999999996,
          0.19299999999999995,
          0.18500000000000005,
          0.16900000000000004,
          0.15800000000000003,
          0.14500000000000002,
          0.129,
          0.11699999999999999,
          0.10699999999999998,
          0.09099999999999997,
          0.08699999999999997,
          0.07899999999999996,
          0.07199999999999995,
          0.06899999999999995,
          0.06399999999999995,
          0.05900000000000005,
          0.05600000000000005,
          0.051000000000000045,
          0.04700000000000004,
          0.04400000000000004,
          0.04300000000000004,
          0.03600000000000003,
          0.03300000000000003,
          0.029000000000000026,
          0.026000000000000023,
          0.02400000000000002,
          0.02200000000000002,
          0.018000000000000016,
          0.017000000000000015,
          0.015000000000000013,
          0.015000000000000013,
          0.014000000000000012,
          0.013000000000000012,
          0.013000000000000012,
          0.01200000000000001,
          0.01200000000000001,
          0.01200000000000001,
          0.010000000000000009,
          0.008000000000000007,
          0.006000000000000005,
          0.006000000000000005,
          0.006000000000000005,
          0.006000000000000005,
          0.006000000000000005,
          0.0050000000000000044,
          0.0040000000000000036,
          0.0040000000000000036,
          0.0040000000000000036,
          0.0040000000000000036,
          0.0040000000000000036,
          0.0040000000000000036,
          0.0030000000000000027,
          0.0030000000000000027,
          0.0030000000000000027,
          0.0030000000000000027,
          0.0020000000000000018,
          0.0020000000000000018,
          0.0010000000000000009,
          0.0010000000000000009,
          0.0010000000000000009,
          0.0010000000000000009,
          0
         ]
        }
       ],
       "layout": {
        "legend": {
         "orientation": "h",
         "traceorder": "normal",
         "x": 0,
         "y": 1
        },
        "shapes": [
         {
          "line": {
           "color": "red",
           "dash": "dash"
          },
          "name": "Probability 0.9",
          "type": "line",
          "x0": 797665.5964902767,
          "x1": 18407923.180736337,
          "y0": 0.9,
          "y1": 0.9
         },
         {
          "line": {
           "color": "green",
           "dash": "dash"
          },
          "name": "Probability 0.5",
          "type": "line",
          "x0": 797665.5964902767,
          "x1": 18407923.180736337,
          "y0": 0.5,
          "y1": 0.5
         },
         {
          "line": {
           "color": "blue",
           "dash": "dash"
          },
          "name": "Probability 0.1",
          "type": "line",
          "x0": 797665.5964902767,
          "x1": 18407923.180736337,
          "y0": 0.1,
          "y1": 0.1
         }
        ],
        "showlegend": true,
        "template": {
         "data": {
          "bar": [
           {
            "error_x": {
             "color": "#2a3f5f"
            },
            "error_y": {
             "color": "#2a3f5f"
            },
            "marker": {
             "line": {
              "color": "#E5ECF6",
              "width": 0.5
             },
             "pattern": {
              "fillmode": "overlay",
              "size": 10,
              "solidity": 0.2
             }
            },
            "type": "bar"
           }
          ],
          "barpolar": [
           {
            "marker": {
             "line": {
              "color": "#E5ECF6",
              "width": 0.5
             },
             "pattern": {
              "fillmode": "overlay",
              "size": 10,
              "solidity": 0.2
             }
            },
            "type": "barpolar"
           }
          ],
          "carpet": [
           {
            "aaxis": {
             "endlinecolor": "#2a3f5f",
             "gridcolor": "white",
             "linecolor": "white",
             "minorgridcolor": "white",
             "startlinecolor": "#2a3f5f"
            },
            "baxis": {
             "endlinecolor": "#2a3f5f",
             "gridcolor": "white",
             "linecolor": "white",
             "minorgridcolor": "white",
             "startlinecolor": "#2a3f5f"
            },
            "type": "carpet"
           }
          ],
          "choropleth": [
           {
            "colorbar": {
             "outlinewidth": 0,
             "ticks": ""
            },
            "type": "choropleth"
           }
          ],
          "contour": [
           {
            "colorbar": {
             "outlinewidth": 0,
             "ticks": ""
            },
            "colorscale": [
             [
              0,
              "#0d0887"
             ],
             [
              0.1111111111111111,
              "#46039f"
             ],
             [
              0.2222222222222222,
              "#7201a8"
             ],
             [
              0.3333333333333333,
              "#9c179e"
             ],
             [
              0.4444444444444444,
              "#bd3786"
             ],
             [
              0.5555555555555556,
              "#d8576b"
             ],
             [
              0.6666666666666666,
              "#ed7953"
             ],
             [
              0.7777777777777778,
              "#fb9f3a"
             ],
             [
              0.8888888888888888,
              "#fdca26"
             ],
             [
              1,
              "#f0f921"
             ]
            ],
            "type": "contour"
           }
          ],
          "contourcarpet": [
           {
            "colorbar": {
             "outlinewidth": 0,
             "ticks": ""
            },
            "type": "contourcarpet"
           }
          ],
          "heatmap": [
           {
            "colorbar": {
             "outlinewidth": 0,
             "ticks": ""
            },
            "colorscale": [
             [
              0,
              "#0d0887"
             ],
             [
              0.1111111111111111,
              "#46039f"
             ],
             [
              0.2222222222222222,
              "#7201a8"
             ],
             [
              0.3333333333333333,
              "#9c179e"
             ],
             [
              0.4444444444444444,
              "#bd3786"
             ],
             [
              0.5555555555555556,
              "#d8576b"
             ],
             [
              0.6666666666666666,
              "#ed7953"
             ],
             [
              0.7777777777777778,
              "#fb9f3a"
             ],
             [
              0.8888888888888888,
              "#fdca26"
             ],
             [
              1,
              "#f0f921"
             ]
            ],
            "type": "heatmap"
           }
          ],
          "heatmapgl": [
           {
            "colorbar": {
             "outlinewidth": 0,
             "ticks": ""
            },
            "colorscale": [
             [
              0,
              "#0d0887"
             ],
             [
              0.1111111111111111,
              "#46039f"
             ],
             [
              0.2222222222222222,
              "#7201a8"
             ],
             [
              0.3333333333333333,
              "#9c179e"
             ],
             [
              0.4444444444444444,
              "#bd3786"
             ],
             [
              0.5555555555555556,
              "#d8576b"
             ],
             [
              0.6666666666666666,
              "#ed7953"
             ],
             [
              0.7777777777777778,
              "#fb9f3a"
             ],
             [
              0.8888888888888888,
              "#fdca26"
             ],
             [
              1,
              "#f0f921"
             ]
            ],
            "type": "heatmapgl"
           }
          ],
          "histogram": [
           {
            "marker": {
             "pattern": {
              "fillmode": "overlay",
              "size": 10,
              "solidity": 0.2
             }
            },
            "type": "histogram"
           }
          ],
          "histogram2d": [
           {
            "colorbar": {
             "outlinewidth": 0,
             "ticks": ""
            },
            "colorscale": [
             [
              0,
              "#0d0887"
             ],
             [
              0.1111111111111111,
              "#46039f"
             ],
             [
              0.2222222222222222,
              "#7201a8"
             ],
             [
              0.3333333333333333,
              "#9c179e"
             ],
             [
              0.4444444444444444,
              "#bd3786"
             ],
             [
              0.5555555555555556,
              "#d8576b"
             ],
             [
              0.6666666666666666,
              "#ed7953"
             ],
             [
              0.7777777777777778,
              "#fb9f3a"
             ],
             [
              0.8888888888888888,
              "#fdca26"
             ],
             [
              1,
              "#f0f921"
             ]
            ],
            "type": "histogram2d"
           }
          ],
          "histogram2dcontour": [
           {
            "colorbar": {
             "outlinewidth": 0,
             "ticks": ""
            },
            "colorscale": [
             [
              0,
              "#0d0887"
             ],
             [
              0.1111111111111111,
              "#46039f"
             ],
             [
              0.2222222222222222,
              "#7201a8"
             ],
             [
              0.3333333333333333,
              "#9c179e"
             ],
             [
              0.4444444444444444,
              "#bd3786"
             ],
             [
              0.5555555555555556,
              "#d8576b"
             ],
             [
              0.6666666666666666,
              "#ed7953"
             ],
             [
              0.7777777777777778,
              "#fb9f3a"
             ],
             [
              0.8888888888888888,
              "#fdca26"
             ],
             [
              1,
              "#f0f921"
             ]
            ],
            "type": "histogram2dcontour"
           }
          ],
          "mesh3d": [
           {
            "colorbar": {
             "outlinewidth": 0,
             "ticks": ""
            },
            "type": "mesh3d"
           }
          ],
          "parcoords": [
           {
            "line": {
             "colorbar": {
              "outlinewidth": 0,
              "ticks": ""
             }
            },
            "type": "parcoords"
           }
          ],
          "pie": [
           {
            "automargin": true,
            "type": "pie"
           }
          ],
          "scatter": [
           {
            "fillpattern": {
             "fillmode": "overlay",
             "size": 10,
             "solidity": 0.2
            },
            "type": "scatter"
           }
          ],
          "scatter3d": [
           {
            "line": {
             "colorbar": {
              "outlinewidth": 0,
              "ticks": ""
             }
            },
            "marker": {
             "colorbar": {
              "outlinewidth": 0,
              "ticks": ""
             }
            },
            "type": "scatter3d"
           }
          ],
          "scattercarpet": [
           {
            "marker": {
             "colorbar": {
              "outlinewidth": 0,
              "ticks": ""
             }
            },
            "type": "scattercarpet"
           }
          ],
          "scattergeo": [
           {
            "marker": {
             "colorbar": {
              "outlinewidth": 0,
              "ticks": ""
             }
            },
            "type": "scattergeo"
           }
          ],
          "scattergl": [
           {
            "marker": {
             "colorbar": {
              "outlinewidth": 0,
              "ticks": ""
             }
            },
            "type": "scattergl"
           }
          ],
          "scattermapbox": [
           {
            "marker": {
             "colorbar": {
              "outlinewidth": 0,
              "ticks": ""
             }
            },
            "type": "scattermapbox"
           }
          ],
          "scatterpolar": [
           {
            "marker": {
             "colorbar": {
              "outlinewidth": 0,
              "ticks": ""
             }
            },
            "type": "scatterpolar"
           }
          ],
          "scatterpolargl": [
           {
            "marker": {
             "colorbar": {
              "outlinewidth": 0,
              "ticks": ""
             }
            },
            "type": "scatterpolargl"
           }
          ],
          "scatterternary": [
           {
            "marker": {
             "colorbar": {
              "outlinewidth": 0,
              "ticks": ""
             }
            },
            "type": "scatterternary"
           }
          ],
          "surface": [
           {
            "colorbar": {
             "outlinewidth": 0,
             "ticks": ""
            },
            "colorscale": [
             [
              0,
              "#0d0887"
             ],
             [
              0.1111111111111111,
              "#46039f"
             ],
             [
              0.2222222222222222,
              "#7201a8"
             ],
             [
              0.3333333333333333,
              "#9c179e"
             ],
             [
              0.4444444444444444,
              "#bd3786"
             ],
             [
              0.5555555555555556,
              "#d8576b"
             ],
             [
              0.6666666666666666,
              "#ed7953"
             ],
             [
              0.7777777777777778,
              "#fb9f3a"
             ],
             [
              0.8888888888888888,
              "#fdca26"
             ],
             [
              1,
              "#f0f921"
             ]
            ],
            "type": "surface"
           }
          ],
          "table": [
           {
            "cells": {
             "fill": {
              "color": "#EBF0F8"
             },
             "line": {
              "color": "white"
             }
            },
            "header": {
             "fill": {
              "color": "#C8D4E3"
             },
             "line": {
              "color": "white"
             }
            },
            "type": "table"
           }
          ]
         },
         "layout": {
          "annotationdefaults": {
           "arrowcolor": "#2a3f5f",
           "arrowhead": 0,
           "arrowwidth": 1
          },
          "autotypenumbers": "strict",
          "coloraxis": {
           "colorbar": {
            "outlinewidth": 0,
            "ticks": ""
           }
          },
          "colorscale": {
           "diverging": [
            [
             0,
             "#8e0152"
            ],
            [
             0.1,
             "#c51b7d"
            ],
            [
             0.2,
             "#de77ae"
            ],
            [
             0.3,
             "#f1b6da"
            ],
            [
             0.4,
             "#fde0ef"
            ],
            [
             0.5,
             "#f7f7f7"
            ],
            [
             0.6,
             "#e6f5d0"
            ],
            [
             0.7,
             "#b8e186"
            ],
            [
             0.8,
             "#7fbc41"
            ],
            [
             0.9,
             "#4d9221"
            ],
            [
             1,
             "#276419"
            ]
           ],
           "sequential": [
            [
             0,
             "#0d0887"
            ],
            [
             0.1111111111111111,
             "#46039f"
            ],
            [
             0.2222222222222222,
             "#7201a8"
            ],
            [
             0.3333333333333333,
             "#9c179e"
            ],
            [
             0.4444444444444444,
             "#bd3786"
            ],
            [
             0.5555555555555556,
             "#d8576b"
            ],
            [
             0.6666666666666666,
             "#ed7953"
            ],
            [
             0.7777777777777778,
             "#fb9f3a"
            ],
            [
             0.8888888888888888,
             "#fdca26"
            ],
            [
             1,
             "#f0f921"
            ]
           ],
           "sequentialminus": [
            [
             0,
             "#0d0887"
            ],
            [
             0.1111111111111111,
             "#46039f"
            ],
            [
             0.2222222222222222,
             "#7201a8"
            ],
            [
             0.3333333333333333,
             "#9c179e"
            ],
            [
             0.4444444444444444,
             "#bd3786"
            ],
            [
             0.5555555555555556,
             "#d8576b"
            ],
            [
             0.6666666666666666,
             "#ed7953"
            ],
            [
             0.7777777777777778,
             "#fb9f3a"
            ],
            [
             0.8888888888888888,
             "#fdca26"
            ],
            [
             1,
             "#f0f921"
            ]
           ]
          },
          "colorway": [
           "#636efa",
           "#EF553B",
           "#00cc96",
           "#ab63fa",
           "#FFA15A",
           "#19d3f3",
           "#FF6692",
           "#B6E880",
           "#FF97FF",
           "#FECB52"
          ],
          "font": {
           "color": "#2a3f5f"
          },
          "geo": {
           "bgcolor": "white",
           "lakecolor": "white",
           "landcolor": "#E5ECF6",
           "showlakes": true,
           "showland": true,
           "subunitcolor": "white"
          },
          "hoverlabel": {
           "align": "left"
          },
          "hovermode": "closest",
          "mapbox": {
           "style": "light"
          },
          "paper_bgcolor": "white",
          "plot_bgcolor": "#E5ECF6",
          "polar": {
           "angularaxis": {
            "gridcolor": "white",
            "linecolor": "white",
            "ticks": ""
           },
           "bgcolor": "#E5ECF6",
           "radialaxis": {
            "gridcolor": "white",
            "linecolor": "white",
            "ticks": ""
           }
          },
          "scene": {
           "xaxis": {
            "backgroundcolor": "#E5ECF6",
            "gridcolor": "white",
            "gridwidth": 2,
            "linecolor": "white",
            "showbackground": true,
            "ticks": "",
            "zerolinecolor": "white"
           },
           "yaxis": {
            "backgroundcolor": "#E5ECF6",
            "gridcolor": "white",
            "gridwidth": 2,
            "linecolor": "white",
            "showbackground": true,
            "ticks": "",
            "zerolinecolor": "white"
           },
           "zaxis": {
            "backgroundcolor": "#E5ECF6",
            "gridcolor": "white",
            "gridwidth": 2,
            "linecolor": "white",
            "showbackground": true,
            "ticks": "",
            "zerolinecolor": "white"
           }
          },
          "shapedefaults": {
           "line": {
            "color": "#2a3f5f"
           }
          },
          "ternary": {
           "aaxis": {
            "gridcolor": "white",
            "linecolor": "white",
            "ticks": ""
           },
           "baxis": {
            "gridcolor": "white",
            "linecolor": "white",
            "ticks": ""
           },
           "bgcolor": "#E5ECF6",
           "caxis": {
            "gridcolor": "white",
            "linecolor": "white",
            "ticks": ""
           }
          },
          "title": {
           "x": 0.05
          },
          "xaxis": {
           "automargin": true,
           "gridcolor": "white",
           "linecolor": "white",
           "ticks": "",
           "title": {
            "standoff": 15
           },
           "zerolinecolor": "white",
           "zerolinewidth": 2
          },
          "yaxis": {
           "automargin": true,
           "gridcolor": "white",
           "linecolor": "white",
           "ticks": "",
           "title": {
            "standoff": 15
           },
           "zerolinecolor": "white",
           "zerolinewidth": 2
          }
         }
        },
        "title": {
         "text": "1- Cumulative Distribution Function (1-CDF) vs STOIIP"
        },
        "xaxis": {
         "title": {
          "text": "STOIIP"
         }
        },
        "yaxis": {
         "title": {
          "text": "Cumulative Frequency"
         }
        }
       }
      }
     },
     "metadata": {},
     "output_type": "display_data"
    }
   ],
   "source": [
    "\n",
    "\n",
    "# Create a figure using plotly\n",
    "fig = go.Figure()\n",
    "\n",
    "# Plot the _1CDF line\n",
    "fig.add_trace(go.Scatter(x=bin_edges[:-1], y=_1CDF, mode='lines', name='1-CDF vs STOIIP'))\n",
    "\n",
    "# Adding horizontal lines for probabilities 0.9, 0.5, and 0.1\n",
    "fig.add_shape(dict(type=\"line\", x0=min(bin_edges[:-1]), x1=max(bin_edges[:-1]), y0=0.9, y1=0.9, line=dict(color=\"red\", dash=\"dash\"), name='Probability 0.9'))\n",
    "fig.add_shape(dict(type=\"line\", x0=min(bin_edges[:-1]), x1=max(bin_edges[:-1]), y0=0.5, y1=0.5, line=dict(color=\"green\", dash=\"dash\"), name='Probability 0.5'))\n",
    "fig.add_shape(dict(type=\"line\", x0=min(bin_edges[:-1]), x1=max(bin_edges[:-1]), y0=0.1, y1=0.1, line=dict(color=\"blue\", dash=\"dash\"), name='Probability 0.1'))\n",
    "\n",
    "# Update layout\n",
    "fig.update_layout(\n",
    "    xaxis=dict(title='STOIIP'),\n",
    "    yaxis=dict(title='Cumulative Frequency'),\n",
    "    title='1- Cumulative Distribution Function (1-CDF) vs STOIIP',\n",
    "    showlegend=True,\n",
    "    legend=dict(x=0, y=1, traceorder='normal', orientation='h'),\n",
    ")\n",
    "\n",
    "# Show the interactive plot\n",
    "fig.show()"
   ]
  },
  {
   "cell_type": "code",
   "execution_count": null,
   "metadata": {},
   "outputs": [],
   "source": []
  }
 ],
 "metadata": {
  "kernelspec": {
   "display_name": "base",
   "language": "python",
   "name": "python3"
  },
  "language_info": {
   "codemirror_mode": {
    "name": "ipython",
    "version": 3
   },
   "file_extension": ".py",
   "mimetype": "text/x-python",
   "name": "python",
   "nbconvert_exporter": "python",
   "pygments_lexer": "ipython3",
   "version": "3.10.9"
  }
 },
 "nbformat": 4,
 "nbformat_minor": 2
}
